{
 "cells": [
  {
   "cell_type": "markdown",
   "id": "b872467f-6675-4ce0-828a-d69513b03029",
   "metadata": {},
   "source": [
    "## Mini Project\n",
    "\n",
    "#### Goal\n",
    "\n",
    "The objective of this project was to forecast the total number of global air passengers per month using historical data. The idea was to capture seasonality and holiday effects that drive spikes in travel, while also accounting for abnormal events that disrupt typical patterns.\n",
    "\n",
    "By forecasting passenger demand, airlines, airports, and policymakers could:\n",
    "\n",
    "- Anticipate peak months (e.g., July, December).\n",
    "- Adjust staffing, pricing, and promotions accordingly.\n",
    "- Understand the long-term impact of disruptions (e.g., COVID-19).\n",
    "\n",
    "Dataset is from Kaggle: https://www.kaggle.com/datasets/umerhaddii/global-holidays-and-travel-data/data "
   ]
  },
  {
   "cell_type": "code",
   "execution_count": 1,
   "id": "99b55121-a3a4-4c15-a268-ffbfc90030bb",
   "metadata": {},
   "outputs": [],
   "source": [
    "import pandas as pd\n",
    "import numpy as np\n",
    "\n",
    "import xgboost as xgb\n",
    "from sklearn.model_selection import train_test_split\n",
    "from sklearn.metrics import mean_squared_error\n",
    "from sklearn.metrics import mean_absolute_error\n",
    "\n",
    "import matplotlib.pyplot as plt"
   ]
  },
  {
   "cell_type": "code",
   "execution_count": 2,
   "id": "95e90088-b6b5-4f2b-b6ea-82ca28317f5d",
   "metadata": {},
   "outputs": [],
   "source": [
    "#Load the dataset\n",
    "travel = pd.read_csv('data/monthly_passengers.csv')\n",
    "global_holidays = pd.read_csv('data/global_holidays.csv')"
   ]
  },
  {
   "cell_type": "code",
   "execution_count": 3,
   "id": "640cb002-04cf-49fc-99bc-7f7889b8b5c9",
   "metadata": {},
   "outputs": [
    {
     "data": {
      "text/html": [
       "<div>\n",
       "<style scoped>\n",
       "    .dataframe tbody tr th:only-of-type {\n",
       "        vertical-align: middle;\n",
       "    }\n",
       "\n",
       "    .dataframe tbody tr th {\n",
       "        vertical-align: top;\n",
       "    }\n",
       "\n",
       "    .dataframe thead th {\n",
       "        text-align: right;\n",
       "    }\n",
       "</style>\n",
       "<table border=\"1\" class=\"dataframe\">\n",
       "  <thead>\n",
       "    <tr style=\"text-align: right;\">\n",
       "      <th></th>\n",
       "      <th>ISO3</th>\n",
       "      <th>Year</th>\n",
       "      <th>Month</th>\n",
       "      <th>Total</th>\n",
       "      <th>Domestic</th>\n",
       "      <th>International</th>\n",
       "      <th>Total_OS</th>\n",
       "    </tr>\n",
       "  </thead>\n",
       "  <tbody>\n",
       "    <tr>\n",
       "      <th>0</th>\n",
       "      <td>ALB</td>\n",
       "      <td>2010</td>\n",
       "      <td>1</td>\n",
       "      <td>NaN</td>\n",
       "      <td>NaN</td>\n",
       "      <td>NaN</td>\n",
       "      <td>117.350</td>\n",
       "    </tr>\n",
       "    <tr>\n",
       "      <th>1</th>\n",
       "      <td>ALB</td>\n",
       "      <td>2010</td>\n",
       "      <td>2</td>\n",
       "      <td>NaN</td>\n",
       "      <td>NaN</td>\n",
       "      <td>NaN</td>\n",
       "      <td>86.535</td>\n",
       "    </tr>\n",
       "    <tr>\n",
       "      <th>2</th>\n",
       "      <td>ALB</td>\n",
       "      <td>2010</td>\n",
       "      <td>3</td>\n",
       "      <td>NaN</td>\n",
       "      <td>NaN</td>\n",
       "      <td>NaN</td>\n",
       "      <td>103.795</td>\n",
       "    </tr>\n",
       "    <tr>\n",
       "      <th>3</th>\n",
       "      <td>ALB</td>\n",
       "      <td>2010</td>\n",
       "      <td>4</td>\n",
       "      <td>NaN</td>\n",
       "      <td>NaN</td>\n",
       "      <td>NaN</td>\n",
       "      <td>102.038</td>\n",
       "    </tr>\n",
       "    <tr>\n",
       "      <th>4</th>\n",
       "      <td>ALB</td>\n",
       "      <td>2010</td>\n",
       "      <td>5</td>\n",
       "      <td>NaN</td>\n",
       "      <td>NaN</td>\n",
       "      <td>NaN</td>\n",
       "      <td>109.037</td>\n",
       "    </tr>\n",
       "  </tbody>\n",
       "</table>\n",
       "</div>"
      ],
      "text/plain": [
       "  ISO3  Year  Month  Total  Domestic  International  Total_OS\n",
       "0  ALB  2010      1    NaN       NaN            NaN   117.350\n",
       "1  ALB  2010      2    NaN       NaN            NaN    86.535\n",
       "2  ALB  2010      3    NaN       NaN            NaN   103.795\n",
       "3  ALB  2010      4    NaN       NaN            NaN   102.038\n",
       "4  ALB  2010      5    NaN       NaN            NaN   109.037"
      ]
     },
     "execution_count": 3,
     "metadata": {},
     "output_type": "execute_result"
    }
   ],
   "source": [
    "travel.head()"
   ]
  },
  {
   "cell_type": "code",
   "execution_count": 4,
   "id": "361a35f5-cf31-4742-bf95-d2ebeb739c39",
   "metadata": {},
   "outputs": [
    {
     "data": {
      "text/html": [
       "<div>\n",
       "<style scoped>\n",
       "    .dataframe tbody tr th:only-of-type {\n",
       "        vertical-align: middle;\n",
       "    }\n",
       "\n",
       "    .dataframe tbody tr th {\n",
       "        vertical-align: top;\n",
       "    }\n",
       "\n",
       "    .dataframe thead th {\n",
       "        text-align: right;\n",
       "    }\n",
       "</style>\n",
       "<table border=\"1\" class=\"dataframe\">\n",
       "  <thead>\n",
       "    <tr style=\"text-align: right;\">\n",
       "      <th></th>\n",
       "      <th>ADM_name</th>\n",
       "      <th>ISO3</th>\n",
       "      <th>Date</th>\n",
       "      <th>Name</th>\n",
       "      <th>Type</th>\n",
       "    </tr>\n",
       "  </thead>\n",
       "  <tbody>\n",
       "    <tr>\n",
       "      <th>0</th>\n",
       "      <td>Aruba</td>\n",
       "      <td>ABW</td>\n",
       "      <td>2010-01-01</td>\n",
       "      <td>New Year's Day</td>\n",
       "      <td>Public holiday</td>\n",
       "    </tr>\n",
       "    <tr>\n",
       "      <th>1</th>\n",
       "      <td>Aruba</td>\n",
       "      <td>ABW</td>\n",
       "      <td>2010-01-25</td>\n",
       "      <td>Betico Croes' Birthday</td>\n",
       "      <td>Public holiday</td>\n",
       "    </tr>\n",
       "    <tr>\n",
       "      <th>2</th>\n",
       "      <td>Aruba</td>\n",
       "      <td>ABW</td>\n",
       "      <td>2010-02-15</td>\n",
       "      <td>Carnival Monday</td>\n",
       "      <td>Public holiday</td>\n",
       "    </tr>\n",
       "    <tr>\n",
       "      <th>3</th>\n",
       "      <td>Aruba</td>\n",
       "      <td>ABW</td>\n",
       "      <td>2010-03-18</td>\n",
       "      <td>National Anthem and Flag Day</td>\n",
       "      <td>Public holiday</td>\n",
       "    </tr>\n",
       "    <tr>\n",
       "      <th>4</th>\n",
       "      <td>Aruba</td>\n",
       "      <td>ABW</td>\n",
       "      <td>2010-04-02</td>\n",
       "      <td>Good Friday</td>\n",
       "      <td>Public holiday</td>\n",
       "    </tr>\n",
       "  </tbody>\n",
       "</table>\n",
       "</div>"
      ],
      "text/plain": [
       "  ADM_name ISO3        Date                          Name            Type\n",
       "0    Aruba  ABW  2010-01-01                New Year's Day  Public holiday\n",
       "1    Aruba  ABW  2010-01-25        Betico Croes' Birthday  Public holiday\n",
       "2    Aruba  ABW  2010-02-15               Carnival Monday  Public holiday\n",
       "3    Aruba  ABW  2010-03-18  National Anthem and Flag Day  Public holiday\n",
       "4    Aruba  ABW  2010-04-02                   Good Friday  Public holiday"
      ]
     },
     "execution_count": 4,
     "metadata": {},
     "output_type": "execute_result"
    }
   ],
   "source": [
    "global_holidays.head()"
   ]
  },
  {
   "cell_type": "code",
   "execution_count": 5,
   "id": "6afaf152-fcdf-4957-bc6e-8a38ad55a480",
   "metadata": {},
   "outputs": [
    {
     "data": {
      "text/plain": [
       "((44393, 5), (7242, 7))"
      ]
     },
     "execution_count": 5,
     "metadata": {},
     "output_type": "execute_result"
    }
   ],
   "source": [
    "global_holidays.shape, travel.shape"
   ]
  },
  {
   "cell_type": "code",
   "execution_count": 6,
   "id": "b5c00757-ebe0-4219-9e52-6cff61185ec7",
   "metadata": {},
   "outputs": [
    {
     "name": "stdout",
     "output_type": "stream",
     "text": [
      "<class 'pandas.core.frame.DataFrame'>\n",
      "RangeIndex: 7242 entries, 0 to 7241\n",
      "Data columns (total 7 columns):\n",
      " #   Column         Non-Null Count  Dtype  \n",
      "---  ------         --------------  -----  \n",
      " 0   ISO3           7242 non-null   object \n",
      " 1   Year           7242 non-null   int64  \n",
      " 2   Month          7242 non-null   int64  \n",
      " 3   Total          3955 non-null   float64\n",
      " 4   Domestic       3292 non-null   float64\n",
      " 5   International  3847 non-null   float64\n",
      " 6   Total_OS       6594 non-null   float64\n",
      "dtypes: float64(4), int64(2), object(1)\n",
      "memory usage: 396.2+ KB\n"
     ]
    }
   ],
   "source": [
    "travel.info()"
   ]
  },
  {
   "cell_type": "code",
   "execution_count": 7,
   "id": "8e8be927-1966-4699-a9b8-d8ad3462a6c9",
   "metadata": {},
   "outputs": [
    {
     "name": "stdout",
     "output_type": "stream",
     "text": [
      "<class 'pandas.core.frame.DataFrame'>\n",
      "RangeIndex: 44393 entries, 0 to 44392\n",
      "Data columns (total 5 columns):\n",
      " #   Column    Non-Null Count  Dtype \n",
      "---  ------    --------------  ----- \n",
      " 0   ADM_name  44393 non-null  object\n",
      " 1   ISO3      44393 non-null  object\n",
      " 2   Date      44393 non-null  object\n",
      " 3   Name      44393 non-null  object\n",
      " 4   Type      44393 non-null  object\n",
      "dtypes: object(5)\n",
      "memory usage: 1.7+ MB\n"
     ]
    }
   ],
   "source": [
    "global_holidays.info()"
   ]
  },
  {
   "cell_type": "code",
   "execution_count": 8,
   "id": "b594dea1-b681-4fba-a906-4567219b7bc6",
   "metadata": {},
   "outputs": [],
   "source": [
    "#Align the datasets\n",
    "\n",
    "global_holidays['Date'] = pd.to_datetime(global_holidays['Date'])\n",
    "global_holidays['month'] = global_holidays['Date'].dt.to_period('M')\n",
    "\n",
    "holiday_counts = global_holidays.groupby('month').size().reset_index(name = 'holiday_count')\n",
    "holiday_counts['date'] = holiday_counts['month'].dt.to_timestamp()"
   ]
  },
  {
   "cell_type": "code",
   "execution_count": 9,
   "id": "b21bebe8-db41-461b-845c-00112db4085e",
   "metadata": {},
   "outputs": [
    {
     "data": {
      "text/html": [
       "<div>\n",
       "<style scoped>\n",
       "    .dataframe tbody tr th:only-of-type {\n",
       "        vertical-align: middle;\n",
       "    }\n",
       "\n",
       "    .dataframe tbody tr th {\n",
       "        vertical-align: top;\n",
       "    }\n",
       "\n",
       "    .dataframe thead th {\n",
       "        text-align: right;\n",
       "    }\n",
       "</style>\n",
       "<table border=\"1\" class=\"dataframe\">\n",
       "  <thead>\n",
       "    <tr style=\"text-align: right;\">\n",
       "      <th></th>\n",
       "      <th>month</th>\n",
       "      <th>holiday_count</th>\n",
       "      <th>date</th>\n",
       "    </tr>\n",
       "  </thead>\n",
       "  <tbody>\n",
       "    <tr>\n",
       "      <th>0</th>\n",
       "      <td>2010-01</td>\n",
       "      <td>317</td>\n",
       "      <td>2010-01-01</td>\n",
       "    </tr>\n",
       "    <tr>\n",
       "      <th>1</th>\n",
       "      <td>2010-02</td>\n",
       "      <td>311</td>\n",
       "      <td>2010-02-01</td>\n",
       "    </tr>\n",
       "    <tr>\n",
       "      <th>2</th>\n",
       "      <td>2010-03</td>\n",
       "      <td>205</td>\n",
       "      <td>2010-03-01</td>\n",
       "    </tr>\n",
       "    <tr>\n",
       "      <th>3</th>\n",
       "      <td>2010-04</td>\n",
       "      <td>596</td>\n",
       "      <td>2010-04-01</td>\n",
       "    </tr>\n",
       "    <tr>\n",
       "      <th>4</th>\n",
       "      <td>2010-05</td>\n",
       "      <td>605</td>\n",
       "      <td>2010-05-01</td>\n",
       "    </tr>\n",
       "  </tbody>\n",
       "</table>\n",
       "</div>"
      ],
      "text/plain": [
       "     month  holiday_count       date\n",
       "0  2010-01            317 2010-01-01\n",
       "1  2010-02            311 2010-02-01\n",
       "2  2010-03            205 2010-03-01\n",
       "3  2010-04            596 2010-04-01\n",
       "4  2010-05            605 2010-05-01"
      ]
     },
     "execution_count": 9,
     "metadata": {},
     "output_type": "execute_result"
    }
   ],
   "source": [
    "holiday_counts.head()"
   ]
  },
  {
   "cell_type": "markdown",
   "id": "fca9784e-182b-4b72-8428-95acde168530",
   "metadata": {},
   "source": [
    "#### Aggregate Globally\n",
    "\n",
    "- collapse across all ISO3 values to get one series of monthly totals."
   ]
  },
  {
   "cell_type": "code",
   "execution_count": 10,
   "id": "3b066f04-fce7-49c4-86a7-658b313deae0",
   "metadata": {},
   "outputs": [],
   "source": [
    "global_monthly = (\n",
    "    travel.groupby(['Year', 'Month'], as_index = False)['Total'].sum()\n",
    "                 )"
   ]
  },
  {
   "cell_type": "code",
   "execution_count": 11,
   "id": "94ab1152-1c1f-432c-a943-6803062b7db6",
   "metadata": {},
   "outputs": [],
   "source": [
    "global_monthly['date'] = pd.to_datetime(\n",
    "    global_monthly['Year'].astype(str) + '-' + global_monthly['Month'].astype(str) + '-01'\n",
    ")\n",
    "\n",
    "global_monthly = global_monthly[['date', 'Total']].sort_values('date')"
   ]
  },
  {
   "cell_type": "code",
   "execution_count": 12,
   "id": "0415d259-1265-4cd2-9a86-d8e79a1d97ab",
   "metadata": {},
   "outputs": [],
   "source": [
    "#Merge with global passengers\n",
    "global_monthly = global_monthly.merge(holiday_counts[['date', 'holiday_count']], on = 'date', how = 'left')"
   ]
  },
  {
   "cell_type": "code",
   "execution_count": 13,
   "id": "a53fdf8a-16e4-4fce-9ef8-724e7eebc010",
   "metadata": {},
   "outputs": [
    {
     "name": "stdout",
     "output_type": "stream",
     "text": [
      "<class 'pandas.core.frame.DataFrame'>\n",
      "RangeIndex: 120 entries, 0 to 119\n",
      "Data columns (total 3 columns):\n",
      " #   Column         Non-Null Count  Dtype         \n",
      "---  ------         --------------  -----         \n",
      " 0   date           120 non-null    datetime64[ns]\n",
      " 1   Total          120 non-null    float64       \n",
      " 2   holiday_count  120 non-null    int64         \n",
      "dtypes: datetime64[ns](1), float64(1), int64(1)\n",
      "memory usage: 2.9 KB\n"
     ]
    }
   ],
   "source": [
    "#Fill null values - no null values (even though no null values)\n",
    "global_monthly['holiday_count'] = global_monthly['holiday_count'].fillna(0)\n",
    "global_monthly.info()"
   ]
  },
  {
   "cell_type": "markdown",
   "id": "d143e295-9547-4e52-bfdd-204d8aa01031",
   "metadata": {},
   "source": [
    "#### Train Forecasting Model"
   ]
  },
  {
   "cell_type": "code",
   "execution_count": 14,
   "id": "b64e26fa-eebf-47db-b882-30d81f4f01ff",
   "metadata": {},
   "outputs": [],
   "source": [
    "#Feature engineering\n",
    "global_monthly['month'] = global_monthly['date'].dt.month\n",
    "global_monthly['year'] = global_monthly['date'].dt.year\n",
    "global_monthly['lag_1'] = global_monthly['Total'].shift(1)\n",
    "global_monthly['lag_12'] = global_monthly['Total'].shift(12)"
   ]
  },
  {
   "cell_type": "code",
   "execution_count": 15,
   "id": "a259bc74-e0f2-4d6f-8d60-416dd43445e8",
   "metadata": {},
   "outputs": [
    {
     "data": {
      "text/html": [
       "<div>\n",
       "<style scoped>\n",
       "    .dataframe tbody tr th:only-of-type {\n",
       "        vertical-align: middle;\n",
       "    }\n",
       "\n",
       "    .dataframe tbody tr th {\n",
       "        vertical-align: top;\n",
       "    }\n",
       "\n",
       "    .dataframe thead th {\n",
       "        text-align: right;\n",
       "    }\n",
       "</style>\n",
       "<table border=\"1\" class=\"dataframe\">\n",
       "  <thead>\n",
       "    <tr style=\"text-align: right;\">\n",
       "      <th></th>\n",
       "      <th>date</th>\n",
       "      <th>Total</th>\n",
       "      <th>holiday_count</th>\n",
       "      <th>month</th>\n",
       "      <th>year</th>\n",
       "      <th>lag_1</th>\n",
       "      <th>lag_12</th>\n",
       "    </tr>\n",
       "  </thead>\n",
       "  <tbody>\n",
       "    <tr>\n",
       "      <th>0</th>\n",
       "      <td>2010-01-01</td>\n",
       "      <td>157748.353</td>\n",
       "      <td>317</td>\n",
       "      <td>1</td>\n",
       "      <td>2010</td>\n",
       "      <td>NaN</td>\n",
       "      <td>NaN</td>\n",
       "    </tr>\n",
       "    <tr>\n",
       "      <th>1</th>\n",
       "      <td>2010-02-01</td>\n",
       "      <td>152733.118</td>\n",
       "      <td>311</td>\n",
       "      <td>2</td>\n",
       "      <td>2010</td>\n",
       "      <td>157748.353</td>\n",
       "      <td>NaN</td>\n",
       "    </tr>\n",
       "    <tr>\n",
       "      <th>2</th>\n",
       "      <td>2010-03-01</td>\n",
       "      <td>185028.498</td>\n",
       "      <td>205</td>\n",
       "      <td>3</td>\n",
       "      <td>2010</td>\n",
       "      <td>152733.118</td>\n",
       "      <td>NaN</td>\n",
       "    </tr>\n",
       "    <tr>\n",
       "      <th>3</th>\n",
       "      <td>2010-04-01</td>\n",
       "      <td>172140.208</td>\n",
       "      <td>596</td>\n",
       "      <td>4</td>\n",
       "      <td>2010</td>\n",
       "      <td>185028.498</td>\n",
       "      <td>NaN</td>\n",
       "    </tr>\n",
       "    <tr>\n",
       "      <th>4</th>\n",
       "      <td>2010-05-01</td>\n",
       "      <td>196935.072</td>\n",
       "      <td>605</td>\n",
       "      <td>5</td>\n",
       "      <td>2010</td>\n",
       "      <td>172140.208</td>\n",
       "      <td>NaN</td>\n",
       "    </tr>\n",
       "  </tbody>\n",
       "</table>\n",
       "</div>"
      ],
      "text/plain": [
       "        date       Total  holiday_count  month  year       lag_1  lag_12\n",
       "0 2010-01-01  157748.353            317      1  2010         NaN     NaN\n",
       "1 2010-02-01  152733.118            311      2  2010  157748.353     NaN\n",
       "2 2010-03-01  185028.498            205      3  2010  152733.118     NaN\n",
       "3 2010-04-01  172140.208            596      4  2010  185028.498     NaN\n",
       "4 2010-05-01  196935.072            605      5  2010  172140.208     NaN"
      ]
     },
     "execution_count": 15,
     "metadata": {},
     "output_type": "execute_result"
    }
   ],
   "source": [
    "global_monthly.head()"
   ]
  },
  {
   "cell_type": "code",
   "execution_count": 16,
   "id": "e1ba8600-88aa-43a9-94cb-1ff20a5d796b",
   "metadata": {},
   "outputs": [],
   "source": [
    "#Drop NA from lagging\n",
    "ml_data = global_monthly.dropna()"
   ]
  },
  {
   "cell_type": "code",
   "execution_count": 17,
   "id": "acdc0489-8ddd-4153-9ba6-1248c29add5e",
   "metadata": {},
   "outputs": [],
   "source": [
    "X = ml_data[['month', 'year', 'holiday_count', 'lag_1', 'lag_12']]\n",
    "y = ml_data['Total']\n",
    "\n",
    "X_train, X_test, y_train, y_test = train_test_split(X, y, shuffle = False, test_size = 12)\n",
    "\n",
    "model = xgb.XGBRegressor(n_estimators = 300, max_depth = 5)\n",
    "model.fit(X_train, y_train)\n",
    "\n",
    "y_pred = model.predict(X_test)\n",
    "rmse = np.sqrt(mean_squared_error(y_test, y_pred))"
   ]
  },
  {
   "cell_type": "code",
   "execution_count": 18,
   "id": "a3a3293e-136f-4582-a981-f9cbf15e8e63",
   "metadata": {},
   "outputs": [
    {
     "name": "stdout",
     "output_type": "stream",
     "text": [
      "Global RMSE: 280075.6212601261\n"
     ]
    }
   ],
   "source": [
    "print('Global RMSE:', rmse)"
   ]
  },
  {
   "cell_type": "code",
   "execution_count": 24,
   "id": "86dcc708-7e32-4a8b-a49c-7245191bd37b",
   "metadata": {},
   "outputs": [],
   "source": [
    "test = ml_data[-12:]"
   ]
  },
  {
   "cell_type": "code",
   "execution_count": 25,
   "id": "8238f08f-a1bb-473b-9778-5bcc3d4d29dc",
   "metadata": {},
   "outputs": [
    {
     "data": {
      "text/html": [
       "<div>\n",
       "<style scoped>\n",
       "    .dataframe tbody tr th:only-of-type {\n",
       "        vertical-align: middle;\n",
       "    }\n",
       "\n",
       "    .dataframe tbody tr th {\n",
       "        vertical-align: top;\n",
       "    }\n",
       "\n",
       "    .dataframe thead th {\n",
       "        text-align: right;\n",
       "    }\n",
       "</style>\n",
       "<table border=\"1\" class=\"dataframe\">\n",
       "  <thead>\n",
       "    <tr style=\"text-align: right;\">\n",
       "      <th></th>\n",
       "      <th>date</th>\n",
       "      <th>Total</th>\n",
       "      <th>holiday_count</th>\n",
       "      <th>month</th>\n",
       "      <th>year</th>\n",
       "      <th>lag_1</th>\n",
       "      <th>lag_12</th>\n",
       "    </tr>\n",
       "  </thead>\n",
       "  <tbody>\n",
       "    <tr>\n",
       "      <th>108</th>\n",
       "      <td>2019-01-01</td>\n",
       "      <td>53409.0</td>\n",
       "      <td>326</td>\n",
       "      <td>1</td>\n",
       "      <td>2019</td>\n",
       "      <td>268214.126</td>\n",
       "      <td>242791.960</td>\n",
       "    </tr>\n",
       "    <tr>\n",
       "      <th>109</th>\n",
       "      <td>2019-02-01</td>\n",
       "      <td>53827.0</td>\n",
       "      <td>224</td>\n",
       "      <td>2</td>\n",
       "      <td>2019</td>\n",
       "      <td>53409.000</td>\n",
       "      <td>237366.134</td>\n",
       "    </tr>\n",
       "    <tr>\n",
       "      <th>110</th>\n",
       "      <td>2019-03-01</td>\n",
       "      <td>53504.0</td>\n",
       "      <td>262</td>\n",
       "      <td>3</td>\n",
       "      <td>2019</td>\n",
       "      <td>53827.000</td>\n",
       "      <td>279392.653</td>\n",
       "    </tr>\n",
       "    <tr>\n",
       "      <th>111</th>\n",
       "      <td>2019-04-01</td>\n",
       "      <td>53118.0</td>\n",
       "      <td>655</td>\n",
       "      <td>4</td>\n",
       "      <td>2019</td>\n",
       "      <td>53504.000</td>\n",
       "      <td>289669.417</td>\n",
       "    </tr>\n",
       "    <tr>\n",
       "      <th>112</th>\n",
       "      <td>2019-05-01</td>\n",
       "      <td>54509.0</td>\n",
       "      <td>557</td>\n",
       "      <td>5</td>\n",
       "      <td>2019</td>\n",
       "      <td>53118.000</td>\n",
       "      <td>305248.930</td>\n",
       "    </tr>\n",
       "    <tr>\n",
       "      <th>113</th>\n",
       "      <td>2019-06-01</td>\n",
       "      <td>53414.0</td>\n",
       "      <td>478</td>\n",
       "      <td>6</td>\n",
       "      <td>2019</td>\n",
       "      <td>54509.000</td>\n",
       "      <td>320991.283</td>\n",
       "    </tr>\n",
       "    <tr>\n",
       "      <th>114</th>\n",
       "      <td>2019-07-01</td>\n",
       "      <td>59304.0</td>\n",
       "      <td>182</td>\n",
       "      <td>7</td>\n",
       "      <td>2019</td>\n",
       "      <td>53414.000</td>\n",
       "      <td>348848.737</td>\n",
       "    </tr>\n",
       "    <tr>\n",
       "      <th>115</th>\n",
       "      <td>2019-08-01</td>\n",
       "      <td>0.0</td>\n",
       "      <td>383</td>\n",
       "      <td>8</td>\n",
       "      <td>2019</td>\n",
       "      <td>59304.000</td>\n",
       "      <td>348114.244</td>\n",
       "    </tr>\n",
       "    <tr>\n",
       "      <th>116</th>\n",
       "      <td>2019-09-01</td>\n",
       "      <td>0.0</td>\n",
       "      <td>223</td>\n",
       "      <td>9</td>\n",
       "      <td>2019</td>\n",
       "      <td>0.000</td>\n",
       "      <td>311907.206</td>\n",
       "    </tr>\n",
       "    <tr>\n",
       "      <th>117</th>\n",
       "      <td>2019-10-01</td>\n",
       "      <td>0.0</td>\n",
       "      <td>271</td>\n",
       "      <td>10</td>\n",
       "      <td>2019</td>\n",
       "      <td>0.000</td>\n",
       "      <td>310498.888</td>\n",
       "    </tr>\n",
       "    <tr>\n",
       "      <th>118</th>\n",
       "      <td>2019-11-01</td>\n",
       "      <td>0.0</td>\n",
       "      <td>309</td>\n",
       "      <td>11</td>\n",
       "      <td>2019</td>\n",
       "      <td>0.000</td>\n",
       "      <td>265194.188</td>\n",
       "    </tr>\n",
       "    <tr>\n",
       "      <th>119</th>\n",
       "      <td>2019-12-01</td>\n",
       "      <td>0.0</td>\n",
       "      <td>625</td>\n",
       "      <td>12</td>\n",
       "      <td>2019</td>\n",
       "      <td>0.000</td>\n",
       "      <td>268214.126</td>\n",
       "    </tr>\n",
       "  </tbody>\n",
       "</table>\n",
       "</div>"
      ],
      "text/plain": [
       "          date    Total  holiday_count  month  year       lag_1      lag_12\n",
       "108 2019-01-01  53409.0            326      1  2019  268214.126  242791.960\n",
       "109 2019-02-01  53827.0            224      2  2019   53409.000  237366.134\n",
       "110 2019-03-01  53504.0            262      3  2019   53827.000  279392.653\n",
       "111 2019-04-01  53118.0            655      4  2019   53504.000  289669.417\n",
       "112 2019-05-01  54509.0            557      5  2019   53118.000  305248.930\n",
       "113 2019-06-01  53414.0            478      6  2019   54509.000  320991.283\n",
       "114 2019-07-01  59304.0            182      7  2019   53414.000  348848.737\n",
       "115 2019-08-01      0.0            383      8  2019   59304.000  348114.244\n",
       "116 2019-09-01      0.0            223      9  2019       0.000  311907.206\n",
       "117 2019-10-01      0.0            271     10  2019       0.000  310498.888\n",
       "118 2019-11-01      0.0            309     11  2019       0.000  265194.188\n",
       "119 2019-12-01      0.0            625     12  2019       0.000  268214.126"
      ]
     },
     "execution_count": 25,
     "metadata": {},
     "output_type": "execute_result"
    }
   ],
   "source": [
    "test"
   ]
  },
  {
   "cell_type": "code",
   "execution_count": 21,
   "id": "8818c1f5-73ca-4fef-8338-3638e79a522a",
   "metadata": {},
   "outputs": [
    {
     "data": {
      "image/png": "[encoded data removed]",
      "text/plain": [
       "<Figure size 1200x600 with 1 Axes>"
      ]
     },
     "metadata": {},
     "output_type": "display_data"
    }
   ],
   "source": [
    "plt.figure(figsize = (12, 6))\n",
    "plt.plot(global_monthly['date'], global_monthly['Total'], label = 'Actual', linewidth = 2)\n",
    "plt.plot(test['date'], y_pred, label=\"Forecast (Lag-12)\", linestyle=\"--\", color=\"orange\")\n",
    "\n",
    "# Highlight holiday months (July & December)\n",
    "holiday_months = global_monthly[global_monthly['date'].dt.month.isin([7,12])]\n",
    "plt.scatter(holiday_months['date'], holiday_months['Total'],\n",
    "            color='red', label=\"Holiday Peaks\", alpha=0.7)\n",
    "\n",
    "plt.title(f\"Global Monthly Passengers Forecast (Lag-12 Baseline)\\nRMSE: {rmse:,.0f}\")\n",
    "plt.xlabel(\"Date\")\n",
    "plt.ylabel(\"Passengers (Total)\")\n",
    "plt.legend()\n",
    "plt.grid(True)\n",
    "plt.show()"
   ]
  },
  {
   "cell_type": "markdown",
   "id": "ff13054f-b844-4f4e-824c-0cc31cf1e104",
   "metadata": {},
   "source": [
    "#### Explaination\n",
    "- I can clearly see the yearly seasonality with peaks (likely holiday months) and troughs.\n",
    "\n",
    "- Around 2019–2020, the line collapses sharply toward zero — probably missing/abnormal data or a real-world disruption (COVID-19)"
   ]
  },
  {
   "cell_type": "code",
   "execution_count": null,
   "id": "3368aa00-69b7-467b-a683-f9f42c2cfb06",
   "metadata": {},
   "outputs": [],
   "source": []
  }
 ],
 "metadata": {
  "kernelspec": {
   "display_name": "Python [conda env:dsci572]",
   "language": "python",
   "name": "conda-env-dsci572-py"
  },
  "language_info": {
   "codemirror_mode": {
    "name": "ipython",
    "version": 3
   },
   "file_extension": ".py",
   "mimetype": "text/x-python",
   "name": "python",
   "nbconvert_exporter": "python",
   "pygments_lexer": "ipython3",
   "version": "3.12.0"
  }
 },
 "nbformat": 4,
 "nbformat_minor": 5
}
