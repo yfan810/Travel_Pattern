{
 "cells": [
  {
   "cell_type": "markdown",
   "id": "b872467f-6675-4ce0-828a-d69513b03029",
   "metadata": {},
   "source": [
    "## Mini Project"
   ]
  },
  {
   "cell_type": "code",
   "execution_count": 1,
   "id": "99b55121-a3a4-4c15-a268-ffbfc90030bb",
   "metadata": {},
   "outputs": [],
   "source": [
    "import pandas as pd\n",
    "import numpy as np"
   ]
  },
  {
   "cell_type": "code",
   "execution_count": 2,
   "id": "95e90088-b6b5-4f2b-b6ea-82ca28317f5d",
   "metadata": {},
   "outputs": [],
   "source": [
    "#start code to read the data \n",
    "travel_data = pd.read_csv('data/travel_dataset.csv')"
   ]
  },
  {
   "cell_type": "code",
   "execution_count": 4,
   "id": "39f3cfbb-6f0e-4cb6-a650-e84357685429",
   "metadata": {},
   "outputs": [
    {
     "data": {
      "text/plain": [
       "(139, 13)"
      ]
     },
     "execution_count": 4,
     "metadata": {},
     "output_type": "execute_result"
    }
   ],
   "source": [
    "travel_data.shape"
   ]
  },
  {
   "cell_type": "code",
   "execution_count": null,
   "id": "69b87785-17b3-43f5-8dd5-f453f7eee5d3",
   "metadata": {},
   "outputs": [],
   "source": []
  }
 ],
 "metadata": {
  "kernelspec": {
   "display_name": "Python [conda env:base] *",
   "language": "python",
   "name": "conda-base-py"
  },
  "language_info": {
   "codemirror_mode": {
    "name": "ipython",
    "version": 3
   },
   "file_extension": ".py",
   "mimetype": "text/x-python",
   "name": "python",
   "nbconvert_exporter": "python",
   "pygments_lexer": "ipython3",
   "version": "3.12.7"
  }
 },
 "nbformat": 4,
 "nbformat_minor": 5
}
